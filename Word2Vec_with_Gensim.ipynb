{
 "cells": [
  {
   "cell_type": "code",
   "execution_count": 1,
   "metadata": {},
   "outputs": [
    {
     "name": "stderr",
     "output_type": "stream",
     "text": [
      "C:\\Users\\Saad\\Anaconda3\\lib\\site-packages\\gensim\\utils.py:1212: UserWarning: detected Windows; aliasing chunkize to chunkize_serial\n",
      "  warnings.warn(\"detected Windows; aliasing chunkize to chunkize_serial\")\n",
      "C:\\Users\\Saad\\Anaconda3\\lib\\site-packages\\gensim\\models\\base_any2vec.py:743: UserWarning: C extension not loaded, training will be slow. Install a C compiler and reinstall gensim for fast training.\n",
      "  \"C extension not loaded, training will be slow. \"\n"
     ]
    },
    {
     "name": "stdout",
     "output_type": "stream",
     "text": [
      "Word2Vec(vocab=14, size=100, alpha=0.025)\n"
     ]
    }
   ],
   "source": [
    "from gensim.models import Word2Vec\n",
    "\n",
    "#define training data and train model\n",
    "sentences = [['this', 'is', 'the', 'first', 'sentence', 'for', 'word2vec'], \n",
    "            ['this', 'is', 'the', 'second', 'sentence'], \n",
    "            ['yet', 'another', 'sentence'], \n",
    "            ['one', 'more', 'sentence'], \n",
    "            ['and', 'the', 'final', 'sentence']]\n",
    "model = Word2Vec(sentences, min_count = 1)\n",
    "print(model)"
   ]
  },
  {
   "cell_type": "code",
   "execution_count": 2,
   "metadata": {},
   "outputs": [
    {
     "name": "stdout",
     "output_type": "stream",
     "text": [
      "['this', 'is', 'the', 'first', 'sentence', 'for', 'word2vec', 'second', 'yet', 'another', 'one', 'more', 'and', 'final']\n"
     ]
    }
   ],
   "source": [
    "#summarize vocabulary\n",
    "words = list(model.wv.vocab)\n",
    "print(words)"
   ]
  },
  {
   "cell_type": "code",
   "execution_count": 3,
   "metadata": {},
   "outputs": [
    {
     "name": "stdout",
     "output_type": "stream",
     "text": [
      "[-4.5337095e-03  2.7678460e-03  1.3272895e-03 -1.4005750e-03\n",
      " -2.8165686e-03 -3.4094634e-03  1.4058227e-03 -4.3604393e-03\n",
      "  1.1740229e-03  8.8037748e-04  4.7316938e-03 -4.1131531e-03\n",
      " -3.5492566e-03 -1.6277940e-03  2.7272070e-04 -2.9891126e-03\n",
      "  2.7298795e-03  4.6666381e-03 -4.9873842e-03  1.7480059e-03\n",
      " -2.6045269e-03 -4.4358149e-03  3.8702211e-03  1.7827452e-03\n",
      "  3.4257590e-03  4.6446514e-03  4.5474502e-03 -3.3641502e-03\n",
      " -2.2305087e-05 -3.8712597e-04  2.4602767e-03 -2.3287495e-03\n",
      " -1.0012443e-03 -2.0207192e-03  4.6853931e-03 -2.0622388e-03\n",
      " -4.6851351e-03  4.2741053e-04 -3.1619193e-03 -2.6224521e-03\n",
      "  1.4399101e-03  1.0221581e-03 -2.3853236e-03 -1.8626171e-03\n",
      "  1.3016678e-03 -1.6423091e-03  4.2189769e-03  2.2912419e-03\n",
      " -3.4499741e-03 -4.8998399e-03 -4.0840795e-03 -4.2573237e-03\n",
      " -4.7730007e-03 -3.2559545e-03  1.6635867e-03 -4.5131883e-03\n",
      "  2.1822827e-03 -3.3522572e-03 -2.5827661e-03  6.4265227e-04\n",
      " -1.4885339e-03 -9.9506334e-04  4.6353131e-03  1.8251939e-03\n",
      "  2.4201639e-03 -9.2130125e-04  6.4729313e-05 -1.9763920e-03\n",
      "  3.9889435e-03  9.5275434e-04  4.0121926e-03  2.3998313e-04\n",
      " -3.2859293e-03 -2.1061189e-03  1.5471389e-03  4.3978747e-03\n",
      " -1.6401010e-03 -4.3983827e-03  3.8445387e-03 -2.5348484e-03\n",
      " -2.3055549e-03 -7.4063562e-04  3.7558472e-03 -4.6251789e-03\n",
      "  2.3817329e-03 -4.9655684e-03  2.4429418e-03  4.0226355e-03\n",
      " -4.8275990e-03 -4.5379540e-03 -1.7390621e-03  1.8186924e-03\n",
      "  1.4756591e-03 -1.3970982e-03 -8.6572475e-04  3.7371167e-03\n",
      "  4.5031752e-03  1.0409432e-03  2.3384475e-04  1.5188694e-03]\n"
     ]
    },
    {
     "name": "stderr",
     "output_type": "stream",
     "text": [
      "C:\\Users\\Saad\\Anaconda3\\lib\\site-packages\\ipykernel_launcher.py:2: DeprecationWarning: Call to deprecated `__getitem__` (Method will be removed in 4.0.0, use self.wv.__getitem__() instead).\n",
      "  \n"
     ]
    }
   ],
   "source": [
    "#access vector for one word\n",
    "print(model['sentence'])"
   ]
  },
  {
   "cell_type": "code",
   "execution_count": 4,
   "metadata": {},
   "outputs": [],
   "source": [
    "#save model\n",
    "model.save('model.bin')"
   ]
  },
  {
   "cell_type": "code",
   "execution_count": 5,
   "metadata": {},
   "outputs": [
    {
     "name": "stdout",
     "output_type": "stream",
     "text": [
      "Word2Vec(vocab=14, size=100, alpha=0.025)\n"
     ]
    }
   ],
   "source": [
    "#load model\n",
    "new_model =Word2Vec.load('model.bin')\n",
    "print(new_model)"
   ]
  },
  {
   "cell_type": "code",
   "execution_count": 6,
   "metadata": {},
   "outputs": [
    {
     "name": "stderr",
     "output_type": "stream",
     "text": [
      "C:\\Users\\Saad\\Anaconda3\\lib\\site-packages\\ipykernel_launcher.py:5: DeprecationWarning: Call to deprecated `__getitem__` (Method will be removed in 4.0.0, use self.wv.__getitem__() instead).\n",
      "  \"\"\"\n"
     ]
    }
   ],
   "source": [
    "from sklearn.decomposition import PCA\n",
    "from matplotlib import pyplot\n",
    "#fit a 2d PCA model to the vectors\n",
    "\n",
    "X = model[model.wv.vocab]\n",
    "pca = PCA(n_components = 2)\n",
    "result = pca.fit_transform(X)"
   ]
  },
  {
   "cell_type": "code",
   "execution_count": 7,
   "metadata": {},
   "outputs": [
    {
     "data": {
      "image/png": "[encoded data removed]",
      "text/plain": [
       "<Figure size 432x288 with 1 Axes>"
      ]
     },
     "metadata": {
      "needs_background": "light"
     },
     "output_type": "display_data"
    }
   ],
   "source": [
    "#create a scatter plot of the projection\n",
    "\n",
    "pyplot.scatter(result[:, 0], result[:, 1])\n",
    "for i, word in enumerate(words):\n",
    "    pyplot.annotate(word, xy = (result[i, 0], result[i, 1]))\n",
    "    \n",
    "pyplot.show()"
   ]
  },
  {
   "cell_type": "code",
   "execution_count": 11,
   "metadata": {},
   "outputs": [],
   "source": [
    "from gensim.models import KeyedVectors\n",
    "filename = 'Datasets/GoogleNewsVector/GoogleNews-vectors-negative300.bin'\n",
    "model_google = KeyedVectors.load_word2vec_format(filename, binary = True)"
   ]
  },
  {
   "cell_type": "code",
   "execution_count": null,
   "metadata": {},
   "outputs": [],
   "source": [
    "#calculate: (king - man) + woman = ?\n",
    "\n",
    "result_google = model_google.most_similar(positive = ['king', 'woman'], negative = ['man'], topn = 1)\n",
    "print(result_google)"
   ]
  },
  {
   "cell_type": "code",
   "execution_count": null,
   "metadata": {},
   "outputs": [],
   "source": []
  }
 ],
 "metadata": {
  "kernelspec": {
   "display_name": "Python 3",
   "language": "python",
   "name": "python3"
  },
  "language_info": {
   "codemirror_mode": {
    "name": "ipython",
    "version": 3
   },
   "file_extension": ".py",
   "mimetype": "text/x-python",
   "name": "python",
   "nbconvert_exporter": "python",
   "pygments_lexer": "ipython3",
   "version": "3.7.0"
  }
 },
 "nbformat": 4,
 "nbformat_minor": 2
}
